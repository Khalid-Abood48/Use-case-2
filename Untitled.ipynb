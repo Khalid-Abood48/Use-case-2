{
 "cells": [
  {
   "cell_type": "code",
   "execution_count": 9,
   "id": "7e58a8ac-2142-4ac2-89d2-073e26b43fa5",
   "metadata": {
    "tags": []
   },
   "outputs": [
    {
     "name": "stdout",
     "output_type": "stream",
     "text": [
      "Collecting dash\n",
      "  Downloading dash-2.17.0-py3-none-any.whl.metadata (10 kB)\n",
      "Requirement already satisfied: Flask<3.1,>=1.0.4 in c:\\users\\khalid\\anaconda3\\lib\\site-packages (from dash) (2.2.5)\n",
      "Requirement already satisfied: Werkzeug<3.1 in c:\\users\\khalid\\anaconda3\\lib\\site-packages (from dash) (2.2.3)\n",
      "Requirement already satisfied: plotly>=5.0.0 in c:\\users\\khalid\\anaconda3\\lib\\site-packages (from dash) (5.9.0)\n",
      "Collecting dash-html-components==2.0.0 (from dash)\n",
      "  Downloading dash_html_components-2.0.0-py3-none-any.whl.metadata (3.8 kB)\n",
      "Collecting dash-core-components==2.0.0 (from dash)\n",
      "  Downloading dash_core_components-2.0.0-py3-none-any.whl.metadata (2.9 kB)\n",
      "Collecting dash-table==5.0.0 (from dash)\n",
      "  Downloading dash_table-5.0.0-py3-none-any.whl.metadata (2.4 kB)\n",
      "Requirement already satisfied: importlib-metadata in c:\\users\\khalid\\anaconda3\\lib\\site-packages (from dash) (7.0.1)\n",
      "Requirement already satisfied: typing-extensions>=4.1.1 in c:\\users\\khalid\\appdata\\roaming\\python\\python311\\site-packages (from dash) (4.11.0)\n",
      "Requirement already satisfied: requests in c:\\users\\khalid\\anaconda3\\lib\\site-packages (from dash) (2.31.0)\n",
      "Collecting retrying (from dash)\n",
      "  Downloading retrying-1.3.4-py3-none-any.whl.metadata (6.9 kB)\n",
      "Requirement already satisfied: nest-asyncio in c:\\users\\khalid\\appdata\\roaming\\python\\python311\\site-packages (from dash) (1.6.0)\n",
      "Requirement already satisfied: setuptools in c:\\users\\khalid\\anaconda3\\lib\\site-packages (from dash) (68.2.2)\n",
      "Requirement already satisfied: Jinja2>=3.0 in c:\\users\\khalid\\anaconda3\\lib\\site-packages (from Flask<3.1,>=1.0.4->dash) (3.1.3)\n",
      "Requirement already satisfied: itsdangerous>=2.0 in c:\\users\\khalid\\anaconda3\\lib\\site-packages (from Flask<3.1,>=1.0.4->dash) (2.0.1)\n",
      "Requirement already satisfied: click>=8.0 in c:\\users\\khalid\\anaconda3\\lib\\site-packages (from Flask<3.1,>=1.0.4->dash) (8.1.7)\n",
      "Requirement already satisfied: tenacity>=6.2.0 in c:\\users\\khalid\\anaconda3\\lib\\site-packages (from plotly>=5.0.0->dash) (8.2.2)\n",
      "Requirement already satisfied: MarkupSafe>=2.1.1 in c:\\users\\khalid\\anaconda3\\lib\\site-packages (from Werkzeug<3.1->dash) (2.1.3)\n",
      "Requirement already satisfied: zipp>=0.5 in c:\\users\\khalid\\anaconda3\\lib\\site-packages (from importlib-metadata->dash) (3.17.0)\n",
      "Requirement already satisfied: charset-normalizer<4,>=2 in c:\\users\\khalid\\anaconda3\\lib\\site-packages (from requests->dash) (2.0.4)\n",
      "Requirement already satisfied: idna<4,>=2.5 in c:\\users\\khalid\\anaconda3\\lib\\site-packages (from requests->dash) (3.4)\n",
      "Requirement already satisfied: urllib3<3,>=1.21.1 in c:\\users\\khalid\\anaconda3\\lib\\site-packages (from requests->dash) (2.0.7)\n",
      "Requirement already satisfied: certifi>=2017.4.17 in c:\\users\\khalid\\anaconda3\\lib\\site-packages (from requests->dash) (2024.2.2)\n",
      "Requirement already satisfied: six>=1.7.0 in c:\\users\\khalid\\appdata\\roaming\\python\\python311\\site-packages (from retrying->dash) (1.16.0)\n",
      "Requirement already satisfied: colorama in c:\\users\\khalid\\appdata\\roaming\\python\\python311\\site-packages (from click>=8.0->Flask<3.1,>=1.0.4->dash) (0.4.6)\n",
      "Downloading dash-2.17.0-py3-none-any.whl (7.5 MB)\n",
      "   ---------------------------------------- 0.0/7.5 MB ? eta -:--:--\n",
      "   ---------------------------------------- 0.0/7.5 MB ? eta -:--:--\n",
      "   ---------------------------------------- 0.0/7.5 MB 487.6 kB/s eta 0:00:16\n",
      "   ---------------------------------------- 0.1/7.5 MB 744.7 kB/s eta 0:00:10\n",
      "    --------------------------------------- 0.2/7.5 MB 1.0 MB/s eta 0:00:08\n",
      "   - -------------------------------------- 0.2/7.5 MB 1.2 MB/s eta 0:00:07\n",
      "   -- ------------------------------------- 0.5/7.5 MB 1.8 MB/s eta 0:00:04\n",
      "   --- ------------------------------------ 0.6/7.5 MB 1.9 MB/s eta 0:00:04\n",
      "   ----- ---------------------------------- 1.0/7.5 MB 2.9 MB/s eta 0:00:03\n",
      "   ------- -------------------------------- 1.5/7.5 MB 3.7 MB/s eta 0:00:02\n",
      "   ----------- ---------------------------- 2.1/7.5 MB 4.6 MB/s eta 0:00:02\n",
      "   --------------- ------------------------ 2.9/7.5 MB 5.8 MB/s eta 0:00:01\n",
      "   --------------------- ------------------ 3.9/7.5 MB 7.2 MB/s eta 0:00:01\n",
      "   -------------------------- ------------- 4.9/7.5 MB 8.4 MB/s eta 0:00:01\n",
      "   ---------------------------- ----------- 5.4/7.5 MB 8.5 MB/s eta 0:00:01\n",
      "   ---------------------------------- ----- 6.5/7.5 MB 9.7 MB/s eta 0:00:01\n",
      "   ---------------------------------------  7.5/7.5 MB 10.4 MB/s eta 0:00:01\n",
      "   ---------------------------------------- 7.5/7.5 MB 10.0 MB/s eta 0:00:00\n",
      "Downloading dash_core_components-2.0.0-py3-none-any.whl (3.8 kB)\n",
      "Downloading dash_html_components-2.0.0-py3-none-any.whl (4.1 kB)\n",
      "Downloading dash_table-5.0.0-py3-none-any.whl (3.9 kB)\n",
      "Downloading retrying-1.3.4-py3-none-any.whl (11 kB)\n",
      "Installing collected packages: dash-table, dash-html-components, dash-core-components, retrying, dash\n",
      "Successfully installed dash-2.17.0 dash-core-components-2.0.0 dash-html-components-2.0.0 dash-table-5.0.0 retrying-1.3.4\n"
     ]
    }
   ],
   "source": [
    "#Import all relevant libraries\n",
    "!pip install dash\n",
    "import numpy as np\n",
    "import pandas as pd\n",
    "import matplotlib.pyplot as plt\n",
    "import seaborn as sns\n",
    "from scipy.stats import zscore\n",
    " \n",
    "## This statement allows the visuals to render within your Jupyter Notebook.\n",
    "%matplotlib inline"
   ]
  },
  {
   "cell_type": "code",
   "execution_count": 11,
   "id": "72d399b3-8192-43aa-beea-58444df14204",
   "metadata": {
    "tags": []
   },
   "outputs": [
    {
     "data": {
      "text/html": [
       "\n",
       "        <iframe\n",
       "            width=\"100%\"\n",
       "            height=\"650\"\n",
       "            src=\"http://127.0.0.1:8050/\"\n",
       "            frameborder=\"0\"\n",
       "            allowfullscreen\n",
       "            \n",
       "        ></iframe>\n",
       "        "
      ],
      "text/plain": [
       "<IPython.lib.display.IFrame at 0x1d146ed4410>"
      ]
     },
     "metadata": {},
     "output_type": "display_data"
    }
   ],
   "source": [
    "from dash import Dash, dcc, html, Input, Output\n",
    "import plotly.graph_objects as go\n",
    "import numpy as np\n",
    "\n",
    "app = Dash(__name__)\n",
    "\n",
    "app.layout = html.Div([\n",
    "    html.H4('Interactive plot with custom data source'),\n",
    "    dcc.Graph(id=\"graph\"),\n",
    "    html.P(\"Number of bars:\"),\n",
    "    dcc.Slider(id=\"slider\", min=2, max=10, value=4, step=1),\n",
    "])\n",
    "\n",
    "\n",
    "@app.callback(\n",
    "    Output(\"graph\", \"figure\"), \n",
    "    Input(\"slider\", \"value\"))\n",
    "def update_bar_chart(size):\n",
    "    data = np.random.normal(3, 2, size=size) # replace with your own data source\n",
    "    fig = go.Figure(\n",
    "        data=[go.Bar(y=data)],\n",
    "        layout_title_text=\"Native Plotly rendering in Dash\"\n",
    "    )\n",
    "    return fig\n",
    "\n",
    "app.run_server(debug=True)"
   ]
  }
 ],
 "metadata": {
  "kernelspec": {
   "display_name": "Python 3 (ipykernel)",
   "language": "python",
   "name": "python3"
  },
  "language_info": {
   "codemirror_mode": {
    "name": "ipython",
    "version": 3
   },
   "file_extension": ".py",
   "mimetype": "text/x-python",
   "name": "python",
   "nbconvert_exporter": "python",
   "pygments_lexer": "ipython3",
   "version": "3.11.7"
  }
 },
 "nbformat": 4,
 "nbformat_minor": 5
}
